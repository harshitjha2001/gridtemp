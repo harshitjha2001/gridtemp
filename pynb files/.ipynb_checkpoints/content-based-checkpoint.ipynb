{
 "cells": [
  {
   "cell_type": "code",
   "execution_count": 7,
   "id": "0931a7ac",
   "metadata": {},
   "outputs": [],
   "source": [
    "import numpy as np"
   ]
  },
  {
   "cell_type": "code",
   "execution_count": 8,
   "id": "7337ebd4",
   "metadata": {},
   "outputs": [],
   "source": [
    "import pandas as pd\n",
    "import pickle\n"
   ]
  },
  {
   "cell_type": "code",
   "execution_count": 9,
   "id": "ae200930",
   "metadata": {},
   "outputs": [],
   "source": [
    "data = pd.read_csv('testdataset1.csv')"
   ]
  },
  {
   "cell_type": "code",
   "execution_count": 10,
   "id": "208eab2c",
   "metadata": {},
   "outputs": [
    {
     "data": {
      "text/plain": [
       "'₹80000 - ₹90000, High-performance laptop (Laptop) with Intel Core i7, 16GB RAM, and 512GB SSD.'"
      ]
     },
     "execution_count": 10,
     "metadata": {},
     "output_type": "execute_result"
    }
   ],
   "source": [
    "data['Tags'][0]\n"
   ]
  },
  {
   "cell_type": "code",
   "execution_count": 11,
   "id": "74a5411b",
   "metadata": {},
   "outputs": [
    {
     "ename": "ImportError",
     "evalue": "cannot import name 'countVectorizer' from 'sklearn.feature_extraction.text' (C:\\Users\\Harshit\\AppData\\Local\\Programs\\Python\\Python311\\Lib\\site-packages\\sklearn\\feature_extraction\\text.py)",
     "output_type": "error",
     "traceback": [
      "\u001b[1;31m---------------------------------------------------------------------------\u001b[0m",
      "\u001b[1;31mImportError\u001b[0m                               Traceback (most recent call last)",
      "Cell \u001b[1;32mIn[11], line 1\u001b[0m\n\u001b[1;32m----> 1\u001b[0m \u001b[38;5;28;01mfrom\u001b[39;00m \u001b[38;5;21;01msklearn\u001b[39;00m\u001b[38;5;21;01m.\u001b[39;00m\u001b[38;5;21;01mfeature_extraction\u001b[39;00m\u001b[38;5;21;01m.\u001b[39;00m\u001b[38;5;21;01mtext\u001b[39;00m \u001b[38;5;28;01mimport\u001b[39;00m countVectorizer\n",
      "\u001b[1;31mImportError\u001b[0m: cannot import name 'countVectorizer' from 'sklearn.feature_extraction.text' (C:\\Users\\Harshit\\AppData\\Local\\Programs\\Python\\Python311\\Lib\\site-packages\\sklearn\\feature_extraction\\text.py)"
     ]
    }
   ],
   "source": [
    "from sklearn.feature_extraction.text import countVectorizer"
   ]
  },
  {
   "cell_type": "code",
   "execution_count": 12,
   "id": "494b205b",
   "metadata": {},
   "outputs": [],
   "source": [
    "import sklearn"
   ]
  },
  {
   "cell_type": "code",
   "execution_count": 13,
   "id": "914a3069",
   "metadata": {},
   "outputs": [],
   "source": [
    "from sklearn.feature_extraction.text import CountVectorizer"
   ]
  },
  {
   "cell_type": "code",
   "execution_count": 14,
   "id": "06c91fb3",
   "metadata": {},
   "outputs": [],
   "source": [
    "cv=CountVectorizer(max_features=5000,stop_words='english')"
   ]
  },
  {
   "cell_type": "code",
   "execution_count": 15,
   "id": "72669044",
   "metadata": {},
   "outputs": [],
   "source": [
    "vectors=cv.fit_transform(data['Tags']).toarray()"
   ]
  },
  {
   "cell_type": "code",
   "execution_count": 16,
   "id": "a8609ae1",
   "metadata": {},
   "outputs": [
    {
     "data": {
      "text/plain": [
       "array([0, 0, 0, 0, 0, 0, 0, 0, 0, 0, 0, 0, 0, 0, 1, 0, 0, 0, 0, 0, 0, 0,\n",
       "       0, 0, 0, 0, 0, 0, 0, 0, 0, 0, 0, 0, 0, 0, 0, 1, 0, 0, 0, 0, 0, 0,\n",
       "       0, 0, 0, 0, 0, 0, 0, 1, 0, 0, 0, 0, 0, 1, 0, 0, 0, 0, 0, 0, 0, 0,\n",
       "       0, 0, 0, 0, 0, 0, 0, 0, 0, 0, 0, 0, 0, 0, 0, 0, 0, 0, 0, 0, 0, 0,\n",
       "       0, 1, 0, 0, 0, 0, 0, 0, 0, 0, 0, 0, 0, 0, 0, 0, 0, 0, 0, 0, 0, 0,\n",
       "       0, 0, 0, 0, 0, 0, 0, 0, 0, 0, 1, 0, 0, 0, 1, 0, 0, 0, 0, 1, 0, 0,\n",
       "       2, 0, 0, 0, 0, 0, 0, 0, 0, 0, 0, 0, 0, 0, 0, 0, 0, 0, 0, 0, 0, 1,\n",
       "       0, 0, 0, 0, 0, 0, 0, 0, 0, 0, 0, 0, 0, 1, 0, 0, 0, 0, 0, 0, 0, 0,\n",
       "       0, 0, 0, 0, 0, 0, 0, 0, 0, 1, 0, 0, 0, 0, 0, 0, 0, 0, 0, 0, 0, 0,\n",
       "       0, 0, 0, 0, 0, 0, 0], dtype=int64)"
      ]
     },
     "execution_count": 16,
     "metadata": {},
     "output_type": "execute_result"
    }
   ],
   "source": [
    "vectors[0]"
   ]
  },
  {
   "cell_type": "code",
   "execution_count": 17,
   "id": "41cf6a65",
   "metadata": {},
   "outputs": [],
   "source": [
    "from sklearn.feature_extraction.text import CountVectorizer\n"
   ]
  },
  {
   "cell_type": "code",
   "execution_count": 18,
   "id": "b055ed06",
   "metadata": {},
   "outputs": [
    {
     "data": {
      "text/plain": [
       "array(['1000', '10000', '100000', '105000', '110000', '12', '12000',\n",
       "       '120000', '128gb', '12gb', '130000', '144hz', '1500', '15000',\n",
       "       '16gb', '17000', '1tb', '2000', '20000', '2500', '256gb', '3000',\n",
       "       '30000', '300hz', '3060', '3080', '3090', '32gb', '35000', '4000',\n",
       "       '40000', '45000', '48mp', '4gb', '4k', '5000', '50000', '512gb',\n",
       "       '55000', '5g', '6000', '60000', '64gb', '65000', '662', '665',\n",
       "       '70000', '75000', '765', '765g', '8000', '80000', '85000', '865',\n",
       "       '870', '888', '8gb', '90000', '95000', 'a15', 'active', 'adaptive',\n",
       "       'affordable', 'ai', 'akg', 'amd', 'amoled', 'arrangement',\n",
       "       'assistant', 'basic', 'battery', 'bionic', 'bluetooth', 'boasting',\n",
       "       'budget', 'business', 'calls', 'camera', 'cameras', 'cancellation',\n",
       "       'capabilities', 'charging', 'chip', 'clear', 'comfortable',\n",
       "       'compact', 'control', 'controls', 'convertible', 'core', 'design',\n",
       "       'device', 'display', 'dual', 'ear', 'earbuds', 'earphones', 'easy',\n",
       "       'emmc', 'end', 'enhancements', 'entry', 'everyday', 'exceptional',\n",
       "       'facial', 'fast', 'featuring', 'fingerprint', 'fit', 'flagship',\n",
       "       'foldable', 'friendly', 'gaming', 'google', 'gpu', 'graphics',\n",
       "       'hd', 'headphones', 'headset', 'hello', 'high', 'hours', 'hybrid',\n",
       "       'i5', 'i7', 'i9', 'improved', 'inch', 'integration', 'intel',\n",
       "       'ios', 'iphone', 'laptop', 'large', 'lasting', 'latest', 'lcd',\n",
       "       'level', 'lightweight', 'long', 'magnetic', 'mediatek', 'mid',\n",
       "       'mobile', 'modern', 'mouse', 'noise', 'nvidia', 'oled', 'optics',\n",
       "       'oriented', 'pentium', 'perfect', 'performance', 'phone', 'pixel',\n",
       "       'playback', 'portability', 'portable', 'powered', 'powerful',\n",
       "       'powerhouse', 'precise', 'premium', 'processor', 'qualcomm',\n",
       "       'quality', 'ram', 'range', 'recognition', 'renowned', 'retina',\n",
       "       'rtx', 'ryzen', 'screen', 'seamless', 'security', 'selfie',\n",
       "       'setup', 'sleek', 'slim', 'smartphone', 'snapdragon', 'sound',\n",
       "       'speaker', 'ssd', 'storage', 'stylish', 'super', 'support',\n",
       "       'tablet', 'tasks', 'thunderbolt', 'time', 'touch', 'triple',\n",
       "       'true', 'ultrabook', 'versatile', 'voice', 'waterproof', 'windows',\n",
       "       'wireless', 'xdr', 'zeiss'], dtype=object)"
      ]
     },
     "execution_count": 18,
     "metadata": {},
     "output_type": "execute_result"
    }
   ],
   "source": [
    "(cv.get_feature_names_out())\n"
   ]
  },
  {
   "cell_type": "code",
   "execution_count": 19,
   "id": "14476c7d",
   "metadata": {},
   "outputs": [],
   "source": [
    "import nltk\n"
   ]
  },
  {
   "cell_type": "code",
   "execution_count": 20,
   "id": "4b44c7f1",
   "metadata": {
    "scrolled": true
   },
   "outputs": [
    {
     "name": "stdout",
     "output_type": "stream",
     "text": [
      "Requirement already satisfied: nltk in c:\\users\\harshit\\appdata\\local\\programs\\python\\python311\\lib\\site-packages (3.8.1)\n",
      "Requirement already satisfied: click in c:\\users\\harshit\\appdata\\roaming\\python\\python311\\site-packages (from nltk) (8.1.3)\n",
      "Requirement already satisfied: joblib in c:\\users\\harshit\\appdata\\local\\programs\\python\\python311\\lib\\site-packages (from nltk) (1.2.0)\n",
      "Requirement already satisfied: regex>=2021.8.3 in c:\\users\\harshit\\appdata\\local\\programs\\python\\python311\\lib\\site-packages (from nltk) (2023.8.8)\n",
      "Requirement already satisfied: tqdm in c:\\users\\harshit\\appdata\\local\\programs\\python\\python311\\lib\\site-packages (from nltk) (4.66.1)\n",
      "Requirement already satisfied: colorama in c:\\users\\harshit\\appdata\\roaming\\python\\python311\\site-packages (from click->nltk) (0.4.6)\n"
     ]
    },
    {
     "name": "stderr",
     "output_type": "stream",
     "text": [
      "\n",
      "[notice] A new release of pip is available: 23.1 -> 23.2.1\n",
      "[notice] To update, run: python.exe -m pip install --upgrade pip\n"
     ]
    }
   ],
   "source": [
    "!pip install nltk"
   ]
  },
  {
   "cell_type": "code",
   "execution_count": 21,
   "id": "fcecb813",
   "metadata": {},
   "outputs": [],
   "source": [
    "import nltk\n"
   ]
  },
  {
   "cell_type": "code",
   "execution_count": 22,
   "id": "8bb8af88",
   "metadata": {},
   "outputs": [],
   "source": [
    "from nltk.stem.porter import PorterStemmer"
   ]
  },
  {
   "cell_type": "code",
   "execution_count": 23,
   "id": "d33383b3",
   "metadata": {},
   "outputs": [],
   "source": [
    "ps=PorterStemmer()"
   ]
  },
  {
   "cell_type": "code",
   "execution_count": null,
   "id": "06192b0d",
   "metadata": {},
   "outputs": [],
   "source": []
  },
  {
   "cell_type": "code",
   "execution_count": 24,
   "id": "42029918",
   "metadata": {},
   "outputs": [],
   "source": [
    "def stem(text):\n",
    "    y=[]\n",
    "    \n",
    "    for i in text.split():\n",
    "        y.append(ps.stem(i))\n",
    "        \n",
    "    return \" \".join(y)"
   ]
  },
  {
   "cell_type": "code",
   "execution_count": 25,
   "id": "09f2d903",
   "metadata": {},
   "outputs": [],
   "source": [
    "data['Tags']=data['Tags'].apply(stem)"
   ]
  },
  {
   "cell_type": "code",
   "execution_count": 26,
   "id": "b31a8fa7",
   "metadata": {},
   "outputs": [
    {
     "data": {
      "text/plain": [
       "array([0, 0, 0, 0, 0, 0, 0, 0, 0, 0, 0, 0, 0, 0, 1, 0, 0, 0, 0, 0, 0, 0,\n",
       "       0, 0, 0, 0, 0, 0, 0, 0, 0, 0, 0, 0, 0, 0, 0, 1, 0, 0, 0, 0, 0, 0,\n",
       "       0, 0, 0, 0, 0, 0, 0, 1, 0, 0, 0, 0, 0, 1, 0, 0, 0, 0, 0, 0, 0, 0,\n",
       "       0, 0, 0, 0, 0, 0, 0, 0, 0, 0, 0, 0, 0, 0, 0, 0, 0, 0, 0, 0, 0, 0,\n",
       "       0, 1, 0, 0, 0, 0, 0, 0, 0, 0, 0, 0, 0, 0, 0, 0, 0, 0, 0, 0, 0, 0,\n",
       "       0, 0, 0, 0, 0, 0, 0, 0, 0, 0, 1, 0, 0, 0, 1, 0, 0, 0, 0, 1, 0, 0,\n",
       "       2, 0, 0, 0, 0, 0, 0, 0, 0, 0, 0, 0, 0, 0, 0, 0, 0, 0, 0, 0, 0, 1,\n",
       "       0, 0, 0, 0, 0, 0, 0, 0, 0, 0, 0, 0, 0, 1, 0, 0, 0, 0, 0, 0, 0, 0,\n",
       "       0, 0, 0, 0, 0, 0, 0, 0, 0, 1, 0, 0, 0, 0, 0, 0, 0, 0, 0, 0, 0, 0,\n",
       "       0, 0, 0, 0, 0, 0, 0], dtype=int64)"
      ]
     },
     "execution_count": 26,
     "metadata": {},
     "output_type": "execute_result"
    }
   ],
   "source": [
    "vectors[0]"
   ]
  },
  {
   "cell_type": "code",
   "execution_count": 27,
   "id": "c4383b2a",
   "metadata": {},
   "outputs": [
    {
     "data": {
      "text/plain": [
       "array(['1000', '10000', '100000', '105000', '110000', '12', '12000',\n",
       "       '120000', '128gb', '12gb', '130000', '144hz', '1500', '15000',\n",
       "       '16gb', '17000', '1tb', '2000', '20000', '2500', '256gb', '3000',\n",
       "       '30000', '300hz', '3060', '3080', '3090', '32gb', '35000', '4000',\n",
       "       '40000', '45000', '48mp', '4gb', '4k', '5000', '50000', '512gb',\n",
       "       '55000', '5g', '6000', '60000', '64gb', '65000', '662', '665',\n",
       "       '70000', '75000', '765', '765g', '8000', '80000', '85000', '865',\n",
       "       '870', '888', '8gb', '90000', '95000', 'a15', 'active', 'adaptive',\n",
       "       'affordable', 'ai', 'akg', 'amd', 'amoled', 'arrangement',\n",
       "       'assistant', 'basic', 'battery', 'bionic', 'bluetooth', 'boasting',\n",
       "       'budget', 'business', 'calls', 'camera', 'cameras', 'cancellation',\n",
       "       'capabilities', 'charging', 'chip', 'clear', 'comfortable',\n",
       "       'compact', 'control', 'controls', 'convertible', 'core', 'design',\n",
       "       'device', 'display', 'dual', 'ear', 'earbuds', 'earphones', 'easy',\n",
       "       'emmc', 'end', 'enhancements', 'entry', 'everyday', 'exceptional',\n",
       "       'facial', 'fast', 'featuring', 'fingerprint', 'fit', 'flagship',\n",
       "       'foldable', 'friendly', 'gaming', 'google', 'gpu', 'graphics',\n",
       "       'hd', 'headphones', 'headset', 'hello', 'high', 'hours', 'hybrid',\n",
       "       'i5', 'i7', 'i9', 'improved', 'inch', 'integration', 'intel',\n",
       "       'ios', 'iphone', 'laptop', 'large', 'lasting', 'latest', 'lcd',\n",
       "       'level', 'lightweight', 'long', 'magnetic', 'mediatek', 'mid',\n",
       "       'mobile', 'modern', 'mouse', 'noise', 'nvidia', 'oled', 'optics',\n",
       "       'oriented', 'pentium', 'perfect', 'performance', 'phone', 'pixel',\n",
       "       'playback', 'portability', 'portable', 'powered', 'powerful',\n",
       "       'powerhouse', 'precise', 'premium', 'processor', 'qualcomm',\n",
       "       'quality', 'ram', 'range', 'recognition', 'renowned', 'retina',\n",
       "       'rtx', 'ryzen', 'screen', 'seamless', 'security', 'selfie',\n",
       "       'setup', 'sleek', 'slim', 'smartphone', 'snapdragon', 'sound',\n",
       "       'speaker', 'ssd', 'storage', 'stylish', 'super', 'support',\n",
       "       'tablet', 'tasks', 'thunderbolt', 'time', 'touch', 'triple',\n",
       "       'true', 'ultrabook', 'versatile', 'voice', 'waterproof', 'windows',\n",
       "       'wireless', 'xdr', 'zeiss'], dtype=object)"
      ]
     },
     "execution_count": 27,
     "metadata": {},
     "output_type": "execute_result"
    }
   ],
   "source": [
    "cv.get_feature_names_out()"
   ]
  },
  {
   "cell_type": "code",
   "execution_count": 28,
   "id": "b6a8b52e",
   "metadata": {},
   "outputs": [],
   "source": [
    "from sklearn.metrics.pairwise import cosine_similarity"
   ]
  },
  {
   "cell_type": "code",
   "execution_count": 29,
   "id": "2fd689b6",
   "metadata": {},
   "outputs": [],
   "source": [
    "similarity= cosine_similarity(vectors)"
   ]
  },
  {
   "cell_type": "code",
   "execution_count": 30,
   "id": "a8eb7bce",
   "metadata": {},
   "outputs": [
    {
     "data": {
      "text/plain": [
       "[(24, 0.7590721152765896), (30, 0.7333333333333332), (10, 0.5999999999999999)]"
      ]
     },
     "execution_count": 30,
     "metadata": {},
     "output_type": "execute_result"
    }
   ],
   "source": [
    "sorted(list(enumerate(similarity[0])),reverse=True,key=lambda x:x[1])[1:4]"
   ]
  },
  {
   "cell_type": "code",
   "execution_count": 31,
   "id": "81bf7152",
   "metadata": {},
   "outputs": [],
   "source": [
    "def recommend(Product):\n",
    "    prod_ind=data[data['Product']==Product].index[0]\n",
    "    distances = similarity[prod_ind]\n",
    "    similar_list=sorted(list(enumerate(distances)),reverse=True,key=lambda x:x[1])[1:4]\n",
    "    for i in similar_list:\n",
    "                        print(data.iloc[i[0]].Product)\n",
    "                        \n",
    "   "
   ]
  },
  {
   "cell_type": "markdown",
   "id": "75117e52",
   "metadata": {},
   "source": [
    "recommend('Apple Mac Air')"
   ]
  },
  {
   "cell_type": "code",
   "execution_count": 32,
   "id": "d8921fb6",
   "metadata": {
    "scrolled": false
   },
   "outputs": [
    {
     "name": "stdout",
     "output_type": "stream",
     "text": [
      "JBL Bluetooth Speaker\n",
      "Google Pixel Buds\n",
      "Beats Headphones\n"
     ]
    }
   ],
   "source": [
    "recommend('Bose SoundLink Speaker')"
   ]
  },
  {
   "cell_type": "code",
   "execution_count": 33,
   "id": "a01332b4",
   "metadata": {},
   "outputs": [
    {
     "data": {
      "text/plain": [
       "'Samsung Mobile'"
      ]
     },
     "execution_count": 33,
     "metadata": {},
     "output_type": "execute_result"
    }
   ],
   "source": [
    "data.iloc[1].Product"
   ]
  },
  {
   "cell_type": "code",
   "execution_count": 34,
   "id": "070a6b09",
   "metadata": {},
   "outputs": [],
   "source": [
    "pickle.dump(data,open('pickle.pkl','wb'))"
   ]
  },
  {
   "cell_type": "code",
   "execution_count": null,
   "id": "fefb7720",
   "metadata": {},
   "outputs": [],
   "source": []
  },
  {
   "cell_type": "code",
   "execution_count": null,
   "id": "7650fa46",
   "metadata": {},
   "outputs": [],
   "source": []
  }
 ],
 "metadata": {
  "kernelspec": {
   "display_name": "Python 3 (ipykernel)",
   "language": "python",
   "name": "python3"
  },
  "language_info": {
   "codemirror_mode": {
    "name": "ipython",
    "version": 3
   },
   "file_extension": ".py",
   "mimetype": "text/x-python",
   "name": "python",
   "nbconvert_exporter": "python",
   "pygments_lexer": "ipython3",
   "version": "3.11.1"
  }
 },
 "nbformat": 4,
 "nbformat_minor": 5
}
