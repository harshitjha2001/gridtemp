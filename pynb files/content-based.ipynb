{
 "cells": [
  {
   "cell_type": "code",
   "execution_count": 34,
   "id": "0931a7ac",
   "metadata": {},
   "outputs": [],
   "source": [
    "import numpy as np"
   ]
  },
  {
   "cell_type": "code",
   "execution_count": 35,
   "id": "7337ebd4",
   "metadata": {},
   "outputs": [],
   "source": [
    "import pandas as pd\n",
    "import pickle\n"
   ]
  },
  {
   "cell_type": "code",
   "execution_count": 8,
   "id": "ae200930",
   "metadata": {},
   "outputs": [],
   "source": [
    "data = pd.read_csv('testing.csv')"
   ]
  },
  {
   "cell_type": "code",
   "execution_count": 9,
   "id": "208eab2c",
   "metadata": {},
   "outputs": [
    {
     "data": {
      "text/plain": [
       "'70000-75000 12th Gen Intel Core i5-1235U 8GB RAM 512GB SSD 14-inch (35.6 cm) Multitouch-Enabled Micro-Edge FHD Laptop Intel Iris Xe Graphics Backlit KB B&O Win 11 MSO 2021 Space Blue 14-ek0086TU'"
      ]
     },
     "execution_count": 9,
     "metadata": {},
     "output_type": "execute_result"
    }
   ],
   "source": [
    "data['Tags'][0]\n"
   ]
  },
  {
   "cell_type": "code",
   "execution_count": null,
   "id": "74a5411b",
   "metadata": {},
   "outputs": [],
   "source": []
  },
  {
   "cell_type": "code",
   "execution_count": 10,
   "id": "494b205b",
   "metadata": {},
   "outputs": [],
   "source": [
    "import sklearn"
   ]
  },
  {
   "cell_type": "code",
   "execution_count": 11,
   "id": "914a3069",
   "metadata": {},
   "outputs": [],
   "source": [
    "from sklearn.feature_extraction.text import CountVectorizer"
   ]
  },
  {
   "cell_type": "code",
   "execution_count": 12,
   "id": "06c91fb3",
   "metadata": {},
   "outputs": [],
   "source": [
    "cv=CountVectorizer(max_features=5000,stop_words='english')"
   ]
  },
  {
   "cell_type": "code",
   "execution_count": 36,
   "id": "72669044",
   "metadata": {},
   "outputs": [],
   "source": [
    "vectors=cv.fit_transform(data['Tags']).toarray()"
   ]
  },
  {
   "cell_type": "code",
   "execution_count": 37,
   "id": "a8609ae1",
   "metadata": {},
   "outputs": [
    {
     "data": {
      "text/plain": [
       "array([0, 0, 0, 0, 0, 0, 0, 0, 0, 0, 0, 0, 0, 0, 0, 0, 0, 0, 0, 0, 0, 1,\n",
       "       0, 0, 0, 0, 0, 0, 0, 0, 0, 0, 0, 1, 0, 0, 0, 1, 0, 0, 0, 0, 0, 0,\n",
       "       0, 0, 2, 0, 0, 0, 0, 0, 0, 0, 0, 0, 0, 0, 0, 0, 0, 0, 0, 0, 0, 0,\n",
       "       0, 0, 0, 0, 0, 0, 0, 0, 1, 0, 0, 0, 0, 0, 0, 0, 0, 0, 0, 0, 0, 0,\n",
       "       0, 0, 0, 0, 0, 0, 0, 0, 0, 0, 0, 0, 0, 0, 0, 0, 0, 0, 0, 0, 0, 0,\n",
       "       1, 0, 0, 0, 0, 0, 0, 0, 0, 0, 0, 0, 0, 0, 0, 0, 0, 0, 0, 0, 0, 0,\n",
       "       0, 0, 0, 0, 0, 0, 0, 0, 0, 0, 0, 0, 1, 0, 0, 0, 0, 0, 0, 0, 0, 0,\n",
       "       0, 0, 0, 0, 0, 0, 0, 0, 0, 0, 0, 0, 0, 0, 0, 0, 0, 0, 0, 0, 0, 1,\n",
       "       0, 0, 0, 0, 0, 1, 0, 0, 0, 0, 0, 0, 0, 0, 0, 0, 0, 0, 0, 0, 1, 0,\n",
       "       0, 0, 0, 0, 0, 0, 0, 0, 0, 0, 0, 0, 0, 0, 0, 0, 0, 0, 0, 0, 0, 0,\n",
       "       0, 0, 0, 0, 0, 1, 0, 0, 0, 0, 0, 0, 1, 0, 0, 0, 0, 0, 0, 0, 0, 0,\n",
       "       0, 0, 0, 0, 0, 0, 0, 0, 0, 0, 0, 0, 0, 1, 0, 0, 0, 0, 0, 0, 0, 1,\n",
       "       0, 0, 0, 0, 0, 0, 0, 0, 0, 0, 0, 0, 0, 0, 0, 0, 1, 0, 0, 1, 1, 0,\n",
       "       0, 0, 0, 0, 0, 0, 0, 0, 0, 0, 1, 0, 0, 0, 0, 0, 0, 0, 0, 0, 0, 0,\n",
       "       0, 1, 0, 0, 0, 0, 1, 0, 0, 0, 0, 0, 0, 0, 0, 0, 0, 0, 0, 0, 0, 0,\n",
       "       0, 1, 0, 0, 0, 1, 0, 0, 2, 0, 0, 0, 0, 0, 1, 0, 0, 0, 1, 0, 1, 0,\n",
       "       0, 0, 0, 0, 0, 0, 0, 0, 0, 0, 0, 0, 0, 0, 0, 0, 0, 0, 0, 0, 0, 0,\n",
       "       0, 1, 0, 0, 0, 0, 0, 0, 0, 0, 0, 1, 1, 0, 0, 0, 0, 0, 0, 0, 0, 0,\n",
       "       0, 0, 0, 0, 0, 0, 0, 0, 0, 0, 0, 0, 0, 0, 0, 0, 0, 0, 0, 0, 0, 0,\n",
       "       1, 0, 0, 0, 0, 0, 0, 0, 0, 0, 0, 0, 0, 0, 0, 0, 0, 0, 0, 0, 0, 0,\n",
       "       0, 0, 0, 0, 0, 0, 1, 0, 1, 0, 0, 0, 0, 0, 0, 0, 0, 0, 0, 0, 0, 0,\n",
       "       0, 0, 0, 0, 0, 0, 0, 0, 0, 0, 0, 0, 0, 0, 0, 0, 0, 0, 0, 0, 0, 0,\n",
       "       0, 0, 0, 0, 0, 1, 0, 0, 0, 0, 0, 1, 0, 0, 0], dtype=int64)"
      ]
     },
     "execution_count": 37,
     "metadata": {},
     "output_type": "execute_result"
    }
   ],
   "source": [
    "vectors[0]"
   ]
  },
  {
   "cell_type": "code",
   "execution_count": 15,
   "id": "41cf6a65",
   "metadata": {},
   "outputs": [],
   "source": []
  },
  {
   "cell_type": "code",
   "execution_count": 33,
   "id": "b055ed06",
   "metadata": {},
   "outputs": [
    {
     "data": {
      "text/plain": [
       "array(['02', '034in', '04', '09', '10', '100', '1000', '10000', '100000',\n",
       "       '1000000', '1005in', '100mins', '1050', '105000', '1080', '108mp',\n",
       "       '10hours', '10m', '10min', '10mm', '10mp', '11', '11000', '110000',\n",
       "       '1115g4', '1150', '115000', '11mm', '11th', '12', '120', '12000',\n",
       "       '120000', '1235u', '125000', '128', '12mp', '12th', '13', '1300',\n",
       "       '13000', '1330', '1380', '13mm', '13mp', '13th', '14', '1400',\n",
       "       '144', '1450', '14ihu5', '15', '150', '15000', '150000', '1550',\n",
       "       '155000', '15ach6', '15igl05', '15s', '16', '1600', '16000',\n",
       "       '1650', '16mp', '17', '1750', '1920', '1hr', '1tb', '20', '2000',\n",
       "       '20000', '200mp', '2021', '2023', '21', '21000', '2150', '2200',\n",
       "       '220nits', '227', '2350', '24', '24000', '243', '25', '2500',\n",
       "       '25000', '256', '256gb', '26', '2650', '27', '27000', '28000',\n",
       "       '29', '2mp', '30', '3000', '30000', '3050', '30hrs', '31000',\n",
       "       '3150', '32', '32000', '32hrs', '32mp', '33000', '35', '35000',\n",
       "       '39', '40', '400', '40000', '4050', '40mp', '40ms', '41000', '415',\n",
       "       '42db', '4400', '45', '4500', '45000', '45ms', '4600', '46000',\n",
       "       '4610', '48', '48000', '48hours', '49', '4k', '500', '5000',\n",
       "       '50000', '50mp', '50ms', '51', '51000', '512', '512gb', '52',\n",
       "       '53000', '55000', '5530', '56', '56000', '5600h', '58', '5800h',\n",
       "       '59', '5mp', '60', '600', '6000', '60000', '60mp', '61000', '62',\n",
       "       '62cm', '64', '64000', '64mp', '650', '65000', '67', '680', '69',\n",
       "       '69000', '69kg', '7000', '70000', '7050', '71', '73', '74', '750',\n",
       "       '75000', '76', '76000', '76g', '79', '8000', '80000', '8020', '81',\n",
       "       '81000', '82', '8500', '85000', '86000', '888', '8gb', '8k', '8mp',\n",
       "       '90', '900', '9000', '90000', '94', '9500', '95000', 'a14', 'a15',\n",
       "       'a715', 'access', 'active', 'ai', 'amd', 'amoled', 'android',\n",
       "       'anti', 'app', 'application', 'asap', 'aspect', 'assistant',\n",
       "       'audio', 'auto', 'b12udxk', 'b5ed', 'backlit', 'bass', 'battery',\n",
       "       'beast', 'big', 'bionic', 'black', 'blue', 'bluetooth', 'body',\n",
       "       'book3', 'boomx', 'boost', 'boult', 'bravo', 'brightness',\n",
       "       'brightview', 'buds', 'calls', 'camera', 'cancellation', 'carbon',\n",
       "       'case', 'ceramic', 'charcoal', 'charge', 'charging', 'chip',\n",
       "       'clear', 'cm', 'color', 'colour', 'comfortview', 'connect',\n",
       "       'connectivity', 'content', 'contrast', 'control', 'controls',\n",
       "       'core', 'crystal', 'customized', 'dark', 'dci', 'detection',\n",
       "       'device', 'devices', 'dimensity', 'disk', 'display', 'dolby',\n",
       "       'drive', 'driver', 'drivers', 'dual', 'dynamic', 'ear', 'edge',\n",
       "       'eh0037tu', 'ej515ws', 'ek0086tu', 'enabled', 'enc', 'engine',\n",
       "       'enx', 'eq', 'evo', 'expandable', 'exynos', 'eyesafe', 'fast',\n",
       "       'faster', 'fastest', 'fhd', 'finger', 'fq2072tu', 'fx577ze', 'g15',\n",
       "       'g36', 'g85', 'g88', 'galaxy', 'game', 'gaming', 'gamut', 'gb',\n",
       "       'geforce', 'gen', 'generation', 'glare', 'google', 'graphics',\n",
       "       'gray', 'grey', 'gtx', 'harmful', 'hd', 'hdr', 'helio', 'hexa',\n",
       "       'hn056w', 'home', 'hour', 'hours', 'hr', 'hrs', 'hyper', 'hz',\n",
       "       'i3', 'i5', 'i7', 'icelight', 'immersive', 'inch', 'industry',\n",
       "       'instacharge', 'intel', 'intelligent', 'ion', 'ip68', 'ips',\n",
       "       'ipx5', 'iris', 'jaeger', 'jet', 'katana', 'kb', 'kg', 'laptop',\n",
       "       'lasting', 'latency', 'lcd', 'leading', 'leather', 'led', 'life',\n",
       "       'light', 'lightning', 'lights', 'link', 'liquid', 'lithium',\n",
       "       'long', 'low', 'm1603qa', 'mac', 'macos', 'mah', 'mb712ws',\n",
       "       'mcafee', 'mediatek', 'mems', 'mgn63hn', 'mic', 'micro', 'mics',\n",
       "       'midnight', 'min', 'mins', 'mly33hn', 'mobile', 'mode', 'modes',\n",
       "       'monterey', 'month', 'mphe3hn', 'ms', 'mso', 'multitouch', 'music',\n",
       "       'neural', 'night', 'nits', 'noise', 'non', 'notebook', 'nvidia',\n",
       "       'octa', 'office', 'ois', 'oled', 'optical', 'os', 'p3', 'p35',\n",
       "       'pair', 'pairing', 'peak2', 'platinum', 'playback', 'playtime',\n",
       "       'polymer', 'powerful', 'ppi', 'preset', 'print', 'processor',\n",
       "       'providing', 'quad', 'qualcomm', 'radeon', 'ram', 'range', 'rate',\n",
       "       'rating', 'ratio', 'realme', 'rear', 'recording', 'reduce',\n",
       "       'resistance', 'resistant', 'retina', 'rom', 'rtx', 'rx6500m',\n",
       "       'ryzen', 'screen', 'sdr', 'sensor', 'series', 'shadow', 'shelf',\n",
       "       'shield', 'silicone', 'silver', 'single', 'size', 'slate', 'smart',\n",
       "       'snapdragon', 'space', 'speaker', 'ssd', 'stop', 'sub', 'super',\n",
       "       'supported', 'supreme', 'sur', 'sustained', 'sweat', 'sync',\n",
       "       't606', 'tb', 'tech', 'technology', 'thermal', 'ti', 'time',\n",
       "       'titanium', 'tn', 'tone', 'touch', 'transparent', 'triple', 'true',\n",
       "       'truedepth', 'tuning', 'type', 'ultra', 'unisoc', 'upto', 'uwva',\n",
       "       'v5', 'vegan', 'ventura', 'version', 'vision', 'voice', 'water',\n",
       "       'wear', 'wide', 'win', 'windows', 'wireless', 'woofer', 'x1502za',\n",
       "       'xdr', 'xe', 'yes', 'z8', 'zen'], dtype=object)"
      ]
     },
     "execution_count": 33,
     "metadata": {},
     "output_type": "execute_result"
    }
   ],
   "source": [
    "(cv.get_feature_names_out())\n"
   ]
  },
  {
   "cell_type": "code",
   "execution_count": 17,
   "id": "14476c7d",
   "metadata": {},
   "outputs": [],
   "source": [
    "import nltk\n"
   ]
  },
  {
   "cell_type": "code",
   "execution_count": 18,
   "id": "4b44c7f1",
   "metadata": {
    "scrolled": true
   },
   "outputs": [
    {
     "name": "stdout",
     "output_type": "stream",
     "text": [
      "Requirement already satisfied: nltk in c:\\users\\harshit\\appdata\\local\\programs\\python\\python311\\lib\\site-packages (3.8.1)\n",
      "Requirement already satisfied: click in c:\\users\\harshit\\appdata\\roaming\\python\\python311\\site-packages (from nltk) (8.1.3)\n",
      "Requirement already satisfied: joblib in c:\\users\\harshit\\appdata\\local\\programs\\python\\python311\\lib\\site-packages (from nltk) (1.2.0)\n",
      "Requirement already satisfied: regex>=2021.8.3 in c:\\users\\harshit\\appdata\\local\\programs\\python\\python311\\lib\\site-packages (from nltk) (2023.8.8)\n",
      "Requirement already satisfied: tqdm in c:\\users\\harshit\\appdata\\local\\programs\\python\\python311\\lib\\site-packages (from nltk) (4.66.1)\n",
      "Requirement already satisfied: colorama in c:\\users\\harshit\\appdata\\roaming\\python\\python311\\site-packages (from click->nltk) (0.4.6)\n"
     ]
    }
   ],
   "source": [
    "!pip install nltk"
   ]
  },
  {
   "cell_type": "code",
   "execution_count": 19,
   "id": "fcecb813",
   "metadata": {},
   "outputs": [],
   "source": [
    "import nltk\n"
   ]
  },
  {
   "cell_type": "code",
   "execution_count": 20,
   "id": "8bb8af88",
   "metadata": {},
   "outputs": [],
   "source": [
    "from nltk.stem.porter import PorterStemmer"
   ]
  },
  {
   "cell_type": "code",
   "execution_count": 21,
   "id": "d33383b3",
   "metadata": {},
   "outputs": [],
   "source": [
    "ps=PorterStemmer()"
   ]
  },
  {
   "cell_type": "code",
   "execution_count": null,
   "id": "06192b0d",
   "metadata": {},
   "outputs": [],
   "source": []
  },
  {
   "cell_type": "code",
   "execution_count": 22,
   "id": "42029918",
   "metadata": {},
   "outputs": [],
   "source": [
    "def stem(text):\n",
    "    y=[]\n",
    "    \n",
    "    for i in text.split():\n",
    "        y.append(ps.stem(i))\n",
    "        \n",
    "    return \" \".join(y)"
   ]
  },
  {
   "cell_type": "code",
   "execution_count": 23,
   "id": "09f2d903",
   "metadata": {},
   "outputs": [],
   "source": [
    "data['Tags']=data['Tags'].apply(stem)"
   ]
  },
  {
   "cell_type": "code",
   "execution_count": 24,
   "id": "b31a8fa7",
   "metadata": {},
   "outputs": [
    {
     "data": {
      "text/plain": [
       "array([0, 0, 0, 0, 0, 0, 0, 0, 0, 0, 0, 0, 0, 0, 0, 0, 0, 0, 0, 0, 0, 1,\n",
       "       0, 0, 0, 0, 0, 0, 0, 0, 0, 0, 0, 1, 0, 0, 0, 1, 0, 0, 0, 0, 0, 0,\n",
       "       0, 0, 2, 0, 0, 0, 0, 0, 0, 0, 0, 0, 0, 0, 0, 0, 0, 0, 0, 0, 0, 0,\n",
       "       0, 0, 0, 0, 0, 0, 0, 0, 1, 0, 0, 0, 0, 0, 0, 0, 0, 0, 0, 0, 0, 0,\n",
       "       0, 0, 0, 0, 0, 0, 0, 0, 0, 0, 0, 0, 0, 0, 0, 0, 0, 0, 0, 0, 0, 0,\n",
       "       1, 0, 0, 0, 0, 0, 0, 0, 0, 0, 0, 0, 0, 0, 0, 0, 0, 0, 0, 0, 0, 0,\n",
       "       0, 0, 0, 0, 0, 0, 0, 0, 0, 0, 0, 1, 0, 0, 0, 0, 0, 0, 0, 0, 0, 0,\n",
       "       0, 0, 0, 0, 0, 0, 0, 0, 0, 0, 0, 0, 0, 0, 0, 0, 0, 0, 0, 0, 1, 0,\n",
       "       0, 0, 0, 0, 1, 0, 0, 0, 0, 0, 0, 0, 0, 0, 0, 0, 0, 0, 0, 1, 0, 0,\n",
       "       0, 0, 0, 0, 0, 0, 0, 0, 0, 0, 0, 0, 0, 0, 0, 0, 0, 0, 0, 0, 0, 0,\n",
       "       0, 0, 0, 0, 1, 0, 0, 0, 0, 0, 0, 1, 0, 0, 0, 0, 0, 0, 0, 0, 0, 0,\n",
       "       0, 0, 0, 0, 0, 0, 0, 0, 0, 0, 0, 1, 0, 0, 0, 0, 0, 0, 0, 0, 0, 1,\n",
       "       0, 0, 0, 0, 0, 0, 0, 0, 0, 0, 0, 0, 0, 0, 0, 0, 0, 1, 0, 0, 1, 1,\n",
       "       0, 0, 0, 0, 0, 0, 0, 0, 0, 0, 0, 1, 0, 0, 0, 0, 0, 0, 0, 0, 0, 0,\n",
       "       0, 0, 0, 1, 0, 0, 0, 1, 0, 0, 0, 0, 0, 0, 0, 0, 0, 0, 0, 0, 0, 0,\n",
       "       0, 0, 0, 1, 0, 0, 0, 1, 0, 0, 2, 0, 0, 0, 0, 0, 1, 0, 0, 0, 1, 0,\n",
       "       1, 0, 0, 0, 0, 0, 0, 0, 0, 0, 0, 0, 0, 0, 0, 0, 0, 0, 0, 0, 0, 0,\n",
       "       0, 0, 0, 0, 1, 0, 0, 0, 0, 0, 0, 0, 0, 0, 0, 0, 0, 1, 1, 0, 0, 0,\n",
       "       0, 0, 0, 0, 0, 0, 0, 0, 0, 0, 0, 0, 0, 0, 0, 0, 0, 0, 0, 0, 0, 0,\n",
       "       0, 0, 0, 0, 0, 0, 0, 1, 0, 0, 0, 0, 0, 0, 0, 0, 0, 0, 0, 0, 0, 0,\n",
       "       0, 0, 0, 0, 0, 0, 0, 0, 0, 0, 0, 0, 0, 0, 0, 1, 0, 1, 0, 0, 0, 0,\n",
       "       0, 0, 0, 0, 0, 0, 0, 0, 0, 0, 0, 0, 0, 0, 0, 0, 0, 0, 0, 0, 0, 0,\n",
       "       0, 0, 0, 0, 0, 0, 0, 0, 0, 0, 0, 0, 0, 1, 0, 0, 0, 0, 0, 1, 0, 0,\n",
       "       0], dtype=int64)"
      ]
     },
     "execution_count": 24,
     "metadata": {},
     "output_type": "execute_result"
    }
   ],
   "source": [
    "vectors[0]"
   ]
  },
  {
   "cell_type": "code",
   "execution_count": 25,
   "id": "c4383b2a",
   "metadata": {},
   "outputs": [
    {
     "data": {
      "text/plain": [
       "array(['02', '034in', '04', '09', '10', '100', '1000', '10000', '100000',\n",
       "       '1000000', '1005in', '100mins', '1050', '105000', '1080', '108mp',\n",
       "       '10hours', '10m', '10min', '10mm', '10mp', '11', '11000', '110000',\n",
       "       '1115g4', '1150', '115000', '11mm', '11th', '12', '120', '12000',\n",
       "       '120000', '1235u', '125000', '128', '12mp', '12th', '13', '1300',\n",
       "       '13000', '1330', '1380', '13mm', '13mp', '13th', '14', '1400',\n",
       "       '144', '1450', '14ihu5', '15', '150', '15000', '150000', '1550',\n",
       "       '155000', '15ach6', '15igl05', '15s', '16', '1600', '16000',\n",
       "       '1650', '16mp', '17', '1750', '1920', '1hr', '1tb', '20', '2000',\n",
       "       '20000', '200mp', '2021', '2023', '21', '21000', '2150', '2200',\n",
       "       '220nits', '227', '2350', '24', '24000', '243', '25', '2500',\n",
       "       '25000', '256', '256gb', '26', '2650', '27', '27000', '28000',\n",
       "       '29', '2mp', '30', '3000', '30000', '3050', '30hrs', '31000',\n",
       "       '3150', '32', '32000', '32hrs', '32mp', '33000', '35', '35000',\n",
       "       '39', '40', '400', '40000', '4050', '40mp', '40ms', '41000', '415',\n",
       "       '42db', '4400', '45', '4500', '45000', '45ms', '4600', '46000',\n",
       "       '4610', '48', '48000', '48hours', '49', '4k', '500', '5000',\n",
       "       '50000', '50mp', '50ms', '51', '51000', '512', '512gb', '52',\n",
       "       '53000', '55000', '5530', '56', '56000', '5600h', '58', '5800h',\n",
       "       '59', '5mp', '60', '600', '6000', '60000', '60mp', '61000', '62',\n",
       "       '62cm', '64', '64000', '64mp', '650', '65000', '67', '680', '69',\n",
       "       '69000', '69kg', '7000', '70000', '7050', '71', '73', '74', '750',\n",
       "       '75000', '76', '76000', '76g', '79', '8000', '80000', '8020', '81',\n",
       "       '81000', '82', '8500', '85000', '86000', '888', '8gb', '8k', '8mp',\n",
       "       '90', '900', '9000', '90000', '94', '9500', '95000', 'a14', 'a15',\n",
       "       'a715', 'access', 'active', 'ai', 'amd', 'amoled', 'android',\n",
       "       'anti', 'app', 'application', 'asap', 'aspect', 'assistant',\n",
       "       'audio', 'auto', 'b12udxk', 'b5ed', 'backlit', 'bass', 'battery',\n",
       "       'beast', 'big', 'bionic', 'black', 'blue', 'bluetooth', 'body',\n",
       "       'book3', 'boomx', 'boost', 'boult', 'bravo', 'brightness',\n",
       "       'brightview', 'buds', 'calls', 'camera', 'cancellation', 'carbon',\n",
       "       'case', 'ceramic', 'charcoal', 'charge', 'charging', 'chip',\n",
       "       'clear', 'cm', 'color', 'colour', 'comfortview', 'connect',\n",
       "       'connectivity', 'content', 'contrast', 'control', 'controls',\n",
       "       'core', 'crystal', 'customized', 'dark', 'dci', 'detection',\n",
       "       'device', 'devices', 'dimensity', 'disk', 'display', 'dolby',\n",
       "       'drive', 'driver', 'drivers', 'dual', 'dynamic', 'ear', 'edge',\n",
       "       'eh0037tu', 'ej515ws', 'ek0086tu', 'enabled', 'enc', 'engine',\n",
       "       'enx', 'eq', 'evo', 'expandable', 'exynos', 'eyesafe', 'fast',\n",
       "       'faster', 'fastest', 'fhd', 'finger', 'fq2072tu', 'fx577ze', 'g15',\n",
       "       'g36', 'g85', 'g88', 'galaxy', 'game', 'gaming', 'gamut', 'gb',\n",
       "       'geforce', 'gen', 'generation', 'glare', 'google', 'graphics',\n",
       "       'gray', 'grey', 'gtx', 'harmful', 'hd', 'hdr', 'helio', 'hexa',\n",
       "       'hn056w', 'home', 'hour', 'hours', 'hr', 'hrs', 'hyper', 'hz',\n",
       "       'i3', 'i5', 'i7', 'icelight', 'immersive', 'inch', 'industry',\n",
       "       'instacharge', 'intel', 'intelligent', 'ion', 'ip68', 'ips',\n",
       "       'ipx5', 'iris', 'jaeger', 'jet', 'katana', 'kb', 'kg', 'laptop',\n",
       "       'lasting', 'latency', 'lcd', 'leading', 'leather', 'led', 'life',\n",
       "       'light', 'lightning', 'lights', 'link', 'liquid', 'lithium',\n",
       "       'long', 'low', 'm1603qa', 'mac', 'macos', 'mah', 'mb712ws',\n",
       "       'mcafee', 'mediatek', 'mems', 'mgn63hn', 'mic', 'micro', 'mics',\n",
       "       'midnight', 'min', 'mins', 'mly33hn', 'mobile', 'mode', 'modes',\n",
       "       'monterey', 'month', 'mphe3hn', 'ms', 'mso', 'multitouch', 'music',\n",
       "       'neural', 'night', 'nits', 'noise', 'non', 'notebook', 'nvidia',\n",
       "       'octa', 'office', 'ois', 'oled', 'optical', 'os', 'p3', 'p35',\n",
       "       'pair', 'pairing', 'peak2', 'platinum', 'playback', 'playtime',\n",
       "       'polymer', 'powerful', 'ppi', 'preset', 'print', 'processor',\n",
       "       'providing', 'quad', 'qualcomm', 'radeon', 'ram', 'range', 'rate',\n",
       "       'rating', 'ratio', 'realme', 'rear', 'recording', 'reduce',\n",
       "       'resistance', 'resistant', 'retina', 'rom', 'rtx', 'rx6500m',\n",
       "       'ryzen', 'screen', 'sdr', 'sensor', 'series', 'shadow', 'shelf',\n",
       "       'shield', 'silicone', 'silver', 'single', 'size', 'slate', 'smart',\n",
       "       'snapdragon', 'space', 'speaker', 'ssd', 'stop', 'sub', 'super',\n",
       "       'supported', 'supreme', 'sur', 'sustained', 'sweat', 'sync',\n",
       "       't606', 'tb', 'tech', 'technology', 'thermal', 'ti', 'time',\n",
       "       'titanium', 'tn', 'tone', 'touch', 'transparent', 'triple', 'true',\n",
       "       'truedepth', 'tuning', 'type', 'ultra', 'unisoc', 'upto', 'uwva',\n",
       "       'v5', 'vegan', 'ventura', 'version', 'vision', 'voice', 'water',\n",
       "       'wear', 'wide', 'win', 'windows', 'wireless', 'woofer', 'x1502za',\n",
       "       'xdr', 'xe', 'yes', 'z8', 'zen'], dtype=object)"
      ]
     },
     "execution_count": 25,
     "metadata": {},
     "output_type": "execute_result"
    }
   ],
   "source": [
    "cv.get_feature_names_out()"
   ]
  },
  {
   "cell_type": "code",
   "execution_count": 26,
   "id": "b6a8b52e",
   "metadata": {},
   "outputs": [],
   "source": [
    "from sklearn.metrics.pairwise import cosine_similarity"
   ]
  },
  {
   "cell_type": "code",
   "execution_count": 27,
   "id": "2fd689b6",
   "metadata": {},
   "outputs": [],
   "source": [
    "similarity= cosine_similarity(vectors)"
   ]
  },
  {
   "cell_type": "code",
   "execution_count": 28,
   "id": "a8eb7bce",
   "metadata": {},
   "outputs": [
    {
     "data": {
      "text/plain": [
       "[(3, 0.35856858280031806),\n",
       " (17, 0.33864810597807815),\n",
       " (13, 0.31008683647302115)]"
      ]
     },
     "execution_count": 28,
     "metadata": {},
     "output_type": "execute_result"
    }
   ],
   "source": [
    "sorted(list(enumerate(similarity[0])),reverse=True,key=lambda x:x[1])[1:4]"
   ]
  },
  {
   "cell_type": "code",
   "execution_count": 29,
   "id": "81bf7152",
   "metadata": {},
   "outputs": [],
   "source": [
    "def recommend(Product):\n",
    "    prod_ind=data[data['Product']==Product].index[0]\n",
    "    distances = similarity[prod_ind]\n",
    "    similar_list=sorted(list(enumerate(distances)),reverse=True,key=lambda x:x[1])[1:4]\n",
    "    for i in similar_list:\n",
    "                        print(data.iloc[i[0]].Product)\n",
    "                        \n",
    "   "
   ]
  },
  {
   "cell_type": "markdown",
   "id": "75117e52",
   "metadata": {},
   "source": []
  },
  {
   "cell_type": "code",
   "execution_count": 38,
   "id": "d8921fb6",
   "metadata": {
    "scrolled": false
   },
   "outputs": [
    {
     "name": "stdout",
     "output_type": "stream",
     "text": [
      "Lenovo Yoga Slim 7\n",
      "HP Pavilion Plus\n",
      "Acer Aspire 3 Core\n"
     ]
    }
   ],
   "source": [
    "recommend('HP Pavilion')"
   ]
  },
  {
   "cell_type": "code",
   "execution_count": null,
   "id": "a01332b4",
   "metadata": {},
   "outputs": [],
   "source": []
  },
  {
   "cell_type": "code",
   "execution_count": 31,
   "id": "070a6b09",
   "metadata": {},
   "outputs": [],
   "source": [
    "pickle.dump(data,open('pickle.pkl','wb'))"
   ]
  },
  {
   "cell_type": "code",
   "execution_count": 32,
   "id": "fefb7720",
   "metadata": {},
   "outputs": [],
   "source": [
    "pickle.dump(similarity,open('similarity.pkl','wb'))"
   ]
  },
  {
   "cell_type": "code",
   "execution_count": null,
   "id": "7650fa46",
   "metadata": {},
   "outputs": [],
   "source": []
  },
  {
   "cell_type": "code",
   "execution_count": null,
   "id": "de6d5440",
   "metadata": {},
   "outputs": [],
   "source": []
  },
  {
   "cell_type": "code",
   "execution_count": null,
   "id": "25557cd3",
   "metadata": {},
   "outputs": [],
   "source": []
  },
  {
   "cell_type": "code",
   "execution_count": null,
   "id": "964abf79",
   "metadata": {},
   "outputs": [],
   "source": []
  }
 ],
 "metadata": {
  "kernelspec": {
   "display_name": "Python 3 (ipykernel)",
   "language": "python",
   "name": "python3"
  },
  "language_info": {
   "codemirror_mode": {
    "name": "ipython",
    "version": 3
   },
   "file_extension": ".py",
   "mimetype": "text/x-python",
   "name": "python",
   "nbconvert_exporter": "python",
   "pygments_lexer": "ipython3",
   "version": "3.11.1"
  }
 },
 "nbformat": 4,
 "nbformat_minor": 5
}
